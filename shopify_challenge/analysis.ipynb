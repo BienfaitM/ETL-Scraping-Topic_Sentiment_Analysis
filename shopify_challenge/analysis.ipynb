{
 "cells": [
  {
   "cell_type": "code",
   "execution_count": 95,
   "source": [
    "import pandas as pd\n",
    "import numpy as np\n",
    "import seaborn as sns\n",
    "import matplotlib.pyplot as plt"
   ],
   "outputs": [],
   "metadata": {}
  },
  {
   "cell_type": "code",
   "execution_count": 96,
   "source": [
    "data = pd.read_excel('/Users/mt/Desktop/python/shopify_challenge/shopify.xlsx')\n",
    "data.head(5)"
   ],
   "outputs": [
    {
     "output_type": "execute_result",
     "data": {
      "text/html": [
       "<div>\n",
       "<style scoped>\n",
       "    .dataframe tbody tr th:only-of-type {\n",
       "        vertical-align: middle;\n",
       "    }\n",
       "\n",
       "    .dataframe tbody tr th {\n",
       "        vertical-align: top;\n",
       "    }\n",
       "\n",
       "    .dataframe thead th {\n",
       "        text-align: right;\n",
       "    }\n",
       "</style>\n",
       "<table border=\"1\" class=\"dataframe\">\n",
       "  <thead>\n",
       "    <tr style=\"text-align: right;\">\n",
       "      <th></th>\n",
       "      <th>order_id</th>\n",
       "      <th>shop_id</th>\n",
       "      <th>user_id</th>\n",
       "      <th>order_amount</th>\n",
       "      <th>total_items</th>\n",
       "      <th>payment_method</th>\n",
       "      <th>created_at</th>\n",
       "    </tr>\n",
       "  </thead>\n",
       "  <tbody>\n",
       "    <tr>\n",
       "      <th>0</th>\n",
       "      <td>1.0</td>\n",
       "      <td>53.0</td>\n",
       "      <td>746</td>\n",
       "      <td>224</td>\n",
       "      <td>2.0</td>\n",
       "      <td>cash</td>\n",
       "      <td>2017-03-13 12:36:56</td>\n",
       "    </tr>\n",
       "    <tr>\n",
       "      <th>1</th>\n",
       "      <td>2.0</td>\n",
       "      <td>92.0</td>\n",
       "      <td>925</td>\n",
       "      <td>90</td>\n",
       "      <td>1.0</td>\n",
       "      <td>cash</td>\n",
       "      <td>2017-03-03 17:38:52</td>\n",
       "    </tr>\n",
       "    <tr>\n",
       "      <th>2</th>\n",
       "      <td>3.0</td>\n",
       "      <td>44.0</td>\n",
       "      <td>861</td>\n",
       "      <td>144</td>\n",
       "      <td>1.0</td>\n",
       "      <td>cash</td>\n",
       "      <td>2017-03-14 04:23:56</td>\n",
       "    </tr>\n",
       "    <tr>\n",
       "      <th>3</th>\n",
       "      <td>4.0</td>\n",
       "      <td>18.0</td>\n",
       "      <td>935</td>\n",
       "      <td>156</td>\n",
       "      <td>1.0</td>\n",
       "      <td>credit_card</td>\n",
       "      <td>2017-03-26 12:43:37</td>\n",
       "    </tr>\n",
       "    <tr>\n",
       "      <th>4</th>\n",
       "      <td>5.0</td>\n",
       "      <td>18.0</td>\n",
       "      <td>883</td>\n",
       "      <td>156</td>\n",
       "      <td>1.0</td>\n",
       "      <td>credit_card</td>\n",
       "      <td>2017-03-01 04:35:11</td>\n",
       "    </tr>\n",
       "  </tbody>\n",
       "</table>\n",
       "</div>"
      ],
      "text/plain": [
       "   order_id  shop_id user_id  order_amount  total_items payment_method  \\\n",
       "0       1.0     53.0     746           224          2.0           cash   \n",
       "1       2.0     92.0     925            90          1.0           cash   \n",
       "2       3.0     44.0     861           144          1.0           cash   \n",
       "3       4.0     18.0     935           156          1.0    credit_card   \n",
       "4       5.0     18.0     883           156          1.0    credit_card   \n",
       "\n",
       "           created_at  \n",
       "0 2017-03-13 12:36:56  \n",
       "1 2017-03-03 17:38:52  \n",
       "2 2017-03-14 04:23:56  \n",
       "3 2017-03-26 12:43:37  \n",
       "4 2017-03-01 04:35:11  "
      ]
     },
     "metadata": {},
     "execution_count": 96
    }
   ],
   "metadata": {}
  },
  {
   "cell_type": "code",
   "execution_count": 97,
   "source": [
    "data.dtypes"
   ],
   "outputs": [
    {
     "output_type": "execute_result",
     "data": {
      "text/plain": [
       "order_id                 float64\n",
       "shop_id                  float64\n",
       "user_id                   object\n",
       "order_amount               int64\n",
       "total_items              float64\n",
       "payment_method            object\n",
       "created_at        datetime64[ns]\n",
       "dtype: object"
      ]
     },
     "metadata": {},
     "execution_count": 97
    }
   ],
   "metadata": {}
  },
  {
   "cell_type": "code",
   "execution_count": 98,
   "source": [
    "data.isna().sum() / data.shape[0]*100"
   ],
   "outputs": [
    {
     "output_type": "execute_result",
     "data": {
      "text/plain": [
       "order_id          0.019996\n",
       "shop_id           0.019996\n",
       "user_id           0.000000\n",
       "order_amount      0.000000\n",
       "total_items       0.019996\n",
       "payment_method    0.019996\n",
       "created_at        0.019996\n",
       "dtype: float64"
      ]
     },
     "metadata": {},
     "execution_count": 98
    }
   ],
   "metadata": {}
  },
  {
   "cell_type": "code",
   "execution_count": 99,
   "source": [
    "data[['total_items']].isna().sum()"
   ],
   "outputs": [
    {
     "output_type": "execute_result",
     "data": {
      "text/plain": [
       "total_items    1\n",
       "dtype: int64"
      ]
     },
     "metadata": {},
     "execution_count": 99
    }
   ],
   "metadata": {}
  },
  {
   "cell_type": "code",
   "execution_count": null,
   "source": [],
   "outputs": [],
   "metadata": {}
  },
  {
   "cell_type": "code",
   "execution_count": 100,
   "source": [
    "# data.order_amount\n",
    "for i in data.order_amount:\n",
    "    total_orders = +i \n",
    "total_orders   "
   ],
   "outputs": [
    {
     "output_type": "execute_result",
     "data": {
      "text/plain": [
       "15725640"
      ]
     },
     "metadata": {},
     "execution_count": 100
    }
   ],
   "metadata": {}
  },
  {
   "cell_type": "code",
   "execution_count": 101,
   "source": [
    "#AOV = REVENUE / number of orders\n",
    "AOV = total_orders / 5000\n",
    "AOV"
   ],
   "outputs": [
    {
     "output_type": "execute_result",
     "data": {
      "text/plain": [
       "3145.128"
      ]
     },
     "metadata": {},
     "execution_count": 101
    }
   ],
   "metadata": {}
  },
  {
   "cell_type": "code",
   "execution_count": 102,
   "source": [
    "data.describe()"
   ],
   "outputs": [
    {
     "output_type": "execute_result",
     "data": {
      "text/html": [
       "<div>\n",
       "<style scoped>\n",
       "    .dataframe tbody tr th:only-of-type {\n",
       "        vertical-align: middle;\n",
       "    }\n",
       "\n",
       "    .dataframe tbody tr th {\n",
       "        vertical-align: top;\n",
       "    }\n",
       "\n",
       "    .dataframe thead th {\n",
       "        text-align: right;\n",
       "    }\n",
       "</style>\n",
       "<table border=\"1\" class=\"dataframe\">\n",
       "  <thead>\n",
       "    <tr style=\"text-align: right;\">\n",
       "      <th></th>\n",
       "      <th>order_id</th>\n",
       "      <th>shop_id</th>\n",
       "      <th>order_amount</th>\n",
       "      <th>total_items</th>\n",
       "    </tr>\n",
       "  </thead>\n",
       "  <tbody>\n",
       "    <tr>\n",
       "      <th>count</th>\n",
       "      <td>5000.000000</td>\n",
       "      <td>5000.000000</td>\n",
       "      <td>5.001000e+03</td>\n",
       "      <td>5000.00000</td>\n",
       "    </tr>\n",
       "    <tr>\n",
       "      <th>mean</th>\n",
       "      <td>2500.500000</td>\n",
       "      <td>50.078800</td>\n",
       "      <td>6.288998e+03</td>\n",
       "      <td>8.78720</td>\n",
       "    </tr>\n",
       "    <tr>\n",
       "      <th>std</th>\n",
       "      <td>1443.520003</td>\n",
       "      <td>29.006118</td>\n",
       "      <td>2.261269e+05</td>\n",
       "      <td>116.32032</td>\n",
       "    </tr>\n",
       "    <tr>\n",
       "      <th>min</th>\n",
       "      <td>1.000000</td>\n",
       "      <td>1.000000</td>\n",
       "      <td>9.000000e+01</td>\n",
       "      <td>1.00000</td>\n",
       "    </tr>\n",
       "    <tr>\n",
       "      <th>25%</th>\n",
       "      <td>1250.750000</td>\n",
       "      <td>24.000000</td>\n",
       "      <td>1.630000e+02</td>\n",
       "      <td>1.00000</td>\n",
       "    </tr>\n",
       "    <tr>\n",
       "      <th>50%</th>\n",
       "      <td>2500.500000</td>\n",
       "      <td>50.000000</td>\n",
       "      <td>2.840000e+02</td>\n",
       "      <td>2.00000</td>\n",
       "    </tr>\n",
       "    <tr>\n",
       "      <th>75%</th>\n",
       "      <td>3750.250000</td>\n",
       "      <td>75.000000</td>\n",
       "      <td>3.900000e+02</td>\n",
       "      <td>3.00000</td>\n",
       "    </tr>\n",
       "    <tr>\n",
       "      <th>max</th>\n",
       "      <td>5000.000000</td>\n",
       "      <td>100.000000</td>\n",
       "      <td>1.572564e+07</td>\n",
       "      <td>2000.00000</td>\n",
       "    </tr>\n",
       "  </tbody>\n",
       "</table>\n",
       "</div>"
      ],
      "text/plain": [
       "          order_id      shop_id  order_amount  total_items\n",
       "count  5000.000000  5000.000000  5.001000e+03   5000.00000\n",
       "mean   2500.500000    50.078800  6.288998e+03      8.78720\n",
       "std    1443.520003    29.006118  2.261269e+05    116.32032\n",
       "min       1.000000     1.000000  9.000000e+01      1.00000\n",
       "25%    1250.750000    24.000000  1.630000e+02      1.00000\n",
       "50%    2500.500000    50.000000  2.840000e+02      2.00000\n",
       "75%    3750.250000    75.000000  3.900000e+02      3.00000\n",
       "max    5000.000000   100.000000  1.572564e+07   2000.00000"
      ]
     },
     "metadata": {},
     "execution_count": 102
    }
   ],
   "metadata": {}
  },
  {
   "cell_type": "code",
   "execution_count": null,
   "source": [],
   "outputs": [],
   "metadata": {}
  },
  {
   "cell_type": "code",
   "execution_count": 103,
   "source": [
    "ax = sns.boxplot(x=data[\"total_items\"])\n",
    "ax.set_xlabel('Total_items')"
   ],
   "outputs": [
    {
     "output_type": "execute_result",
     "data": {
      "text/plain": [
       "Text(0.5, 0, 'Total_items')"
      ]
     },
     "metadata": {},
     "execution_count": 103
    },
    {
     "output_type": "display_data",
     "data": {
      "image/png": "[encoded data removed]",
      "text/plain": [
       "<Figure size 432x288 with 1 Axes>"
      ]
     },
     "metadata": {
      "needs_background": "light"
     }
    }
   ],
   "metadata": {}
  },
  {
   "cell_type": "code",
   "execution_count": 104,
   "source": [
    "ax = sns.boxplot(x=data[\"order_amount\"])\n",
    "ax.set_xlabel('Total_order_amount')"
   ],
   "outputs": [
    {
     "output_type": "execute_result",
     "data": {
      "text/plain": [
       "Text(0.5, 0, 'Total_order_amount')"
      ]
     },
     "metadata": {},
     "execution_count": 104
    },
    {
     "output_type": "display_data",
     "data": {
      "image/png": "[encoded data removed]",
      "text/plain": [
       "<Figure size 432x288 with 1 Axes>"
      ]
     },
     "metadata": {
      "needs_background": "light"
     }
    }
   ],
   "metadata": {}
  },
  {
   "cell_type": "code",
   "execution_count": 105,
   "source": [
    "data.loc[data['total_items'] >= 2000]\n"
   ],
   "outputs": [
    {
     "output_type": "execute_result",
     "data": {
      "text/html": [
       "<div>\n",
       "<style scoped>\n",
       "    .dataframe tbody tr th:only-of-type {\n",
       "        vertical-align: middle;\n",
       "    }\n",
       "\n",
       "    .dataframe tbody tr th {\n",
       "        vertical-align: top;\n",
       "    }\n",
       "\n",
       "    .dataframe thead th {\n",
       "        text-align: right;\n",
       "    }\n",
       "</style>\n",
       "<table border=\"1\" class=\"dataframe\">\n",
       "  <thead>\n",
       "    <tr style=\"text-align: right;\">\n",
       "      <th></th>\n",
       "      <th>order_id</th>\n",
       "      <th>shop_id</th>\n",
       "      <th>user_id</th>\n",
       "      <th>order_amount</th>\n",
       "      <th>total_items</th>\n",
       "      <th>payment_method</th>\n",
       "      <th>created_at</th>\n",
       "    </tr>\n",
       "  </thead>\n",
       "  <tbody>\n",
       "    <tr>\n",
       "      <th>15</th>\n",
       "      <td>16.0</td>\n",
       "      <td>42.0</td>\n",
       "      <td>607</td>\n",
       "      <td>704000</td>\n",
       "      <td>2000.0</td>\n",
       "      <td>credit_card</td>\n",
       "      <td>2017-03-07 04:00:00</td>\n",
       "    </tr>\n",
       "    <tr>\n",
       "      <th>60</th>\n",
       "      <td>61.0</td>\n",
       "      <td>42.0</td>\n",
       "      <td>607</td>\n",
       "      <td>704000</td>\n",
       "      <td>2000.0</td>\n",
       "      <td>credit_card</td>\n",
       "      <td>2017-03-04 04:00:00</td>\n",
       "    </tr>\n",
       "    <tr>\n",
       "      <th>520</th>\n",
       "      <td>521.0</td>\n",
       "      <td>42.0</td>\n",
       "      <td>607</td>\n",
       "      <td>704000</td>\n",
       "      <td>2000.0</td>\n",
       "      <td>credit_card</td>\n",
       "      <td>2017-03-02 04:00:00</td>\n",
       "    </tr>\n",
       "    <tr>\n",
       "      <th>1104</th>\n",
       "      <td>1105.0</td>\n",
       "      <td>42.0</td>\n",
       "      <td>607</td>\n",
       "      <td>704000</td>\n",
       "      <td>2000.0</td>\n",
       "      <td>credit_card</td>\n",
       "      <td>2017-03-24 04:00:00</td>\n",
       "    </tr>\n",
       "    <tr>\n",
       "      <th>1362</th>\n",
       "      <td>1363.0</td>\n",
       "      <td>42.0</td>\n",
       "      <td>607</td>\n",
       "      <td>704000</td>\n",
       "      <td>2000.0</td>\n",
       "      <td>credit_card</td>\n",
       "      <td>2017-03-15 04:00:00</td>\n",
       "    </tr>\n",
       "    <tr>\n",
       "      <th>1436</th>\n",
       "      <td>1437.0</td>\n",
       "      <td>42.0</td>\n",
       "      <td>607</td>\n",
       "      <td>704000</td>\n",
       "      <td>2000.0</td>\n",
       "      <td>credit_card</td>\n",
       "      <td>2017-03-11 04:00:00</td>\n",
       "    </tr>\n",
       "    <tr>\n",
       "      <th>1562</th>\n",
       "      <td>1563.0</td>\n",
       "      <td>42.0</td>\n",
       "      <td>607</td>\n",
       "      <td>704000</td>\n",
       "      <td>2000.0</td>\n",
       "      <td>credit_card</td>\n",
       "      <td>2017-03-19 04:00:00</td>\n",
       "    </tr>\n",
       "    <tr>\n",
       "      <th>1602</th>\n",
       "      <td>1603.0</td>\n",
       "      <td>42.0</td>\n",
       "      <td>607</td>\n",
       "      <td>704000</td>\n",
       "      <td>2000.0</td>\n",
       "      <td>credit_card</td>\n",
       "      <td>2017-03-17 04:00:00</td>\n",
       "    </tr>\n",
       "    <tr>\n",
       "      <th>2153</th>\n",
       "      <td>2154.0</td>\n",
       "      <td>42.0</td>\n",
       "      <td>607</td>\n",
       "      <td>704000</td>\n",
       "      <td>2000.0</td>\n",
       "      <td>credit_card</td>\n",
       "      <td>2017-03-12 04:00:00</td>\n",
       "    </tr>\n",
       "    <tr>\n",
       "      <th>2297</th>\n",
       "      <td>2298.0</td>\n",
       "      <td>42.0</td>\n",
       "      <td>607</td>\n",
       "      <td>704000</td>\n",
       "      <td>2000.0</td>\n",
       "      <td>credit_card</td>\n",
       "      <td>2017-03-07 04:00:00</td>\n",
       "    </tr>\n",
       "    <tr>\n",
       "      <th>2835</th>\n",
       "      <td>2836.0</td>\n",
       "      <td>42.0</td>\n",
       "      <td>607</td>\n",
       "      <td>704000</td>\n",
       "      <td>2000.0</td>\n",
       "      <td>credit_card</td>\n",
       "      <td>2017-03-28 04:00:00</td>\n",
       "    </tr>\n",
       "    <tr>\n",
       "      <th>2969</th>\n",
       "      <td>2970.0</td>\n",
       "      <td>42.0</td>\n",
       "      <td>607</td>\n",
       "      <td>704000</td>\n",
       "      <td>2000.0</td>\n",
       "      <td>credit_card</td>\n",
       "      <td>2017-03-28 04:00:00</td>\n",
       "    </tr>\n",
       "    <tr>\n",
       "      <th>3332</th>\n",
       "      <td>3333.0</td>\n",
       "      <td>42.0</td>\n",
       "      <td>607</td>\n",
       "      <td>704000</td>\n",
       "      <td>2000.0</td>\n",
       "      <td>credit_card</td>\n",
       "      <td>2017-03-24 04:00:00</td>\n",
       "    </tr>\n",
       "    <tr>\n",
       "      <th>4056</th>\n",
       "      <td>4057.0</td>\n",
       "      <td>42.0</td>\n",
       "      <td>607</td>\n",
       "      <td>704000</td>\n",
       "      <td>2000.0</td>\n",
       "      <td>credit_card</td>\n",
       "      <td>2017-03-28 04:00:00</td>\n",
       "    </tr>\n",
       "    <tr>\n",
       "      <th>4646</th>\n",
       "      <td>4647.0</td>\n",
       "      <td>42.0</td>\n",
       "      <td>607</td>\n",
       "      <td>704000</td>\n",
       "      <td>2000.0</td>\n",
       "      <td>credit_card</td>\n",
       "      <td>2017-03-02 04:00:00</td>\n",
       "    </tr>\n",
       "    <tr>\n",
       "      <th>4868</th>\n",
       "      <td>4869.0</td>\n",
       "      <td>42.0</td>\n",
       "      <td>607</td>\n",
       "      <td>704000</td>\n",
       "      <td>2000.0</td>\n",
       "      <td>credit_card</td>\n",
       "      <td>2017-03-22 04:00:00</td>\n",
       "    </tr>\n",
       "    <tr>\n",
       "      <th>4882</th>\n",
       "      <td>4883.0</td>\n",
       "      <td>42.0</td>\n",
       "      <td>607</td>\n",
       "      <td>704000</td>\n",
       "      <td>2000.0</td>\n",
       "      <td>credit_card</td>\n",
       "      <td>2017-03-25 04:00:00</td>\n",
       "    </tr>\n",
       "  </tbody>\n",
       "</table>\n",
       "</div>"
      ],
      "text/plain": [
       "      order_id  shop_id user_id  order_amount  total_items payment_method  \\\n",
       "15        16.0     42.0     607        704000       2000.0    credit_card   \n",
       "60        61.0     42.0     607        704000       2000.0    credit_card   \n",
       "520      521.0     42.0     607        704000       2000.0    credit_card   \n",
       "1104    1105.0     42.0     607        704000       2000.0    credit_card   \n",
       "1362    1363.0     42.0     607        704000       2000.0    credit_card   \n",
       "1436    1437.0     42.0     607        704000       2000.0    credit_card   \n",
       "1562    1563.0     42.0     607        704000       2000.0    credit_card   \n",
       "1602    1603.0     42.0     607        704000       2000.0    credit_card   \n",
       "2153    2154.0     42.0     607        704000       2000.0    credit_card   \n",
       "2297    2298.0     42.0     607        704000       2000.0    credit_card   \n",
       "2835    2836.0     42.0     607        704000       2000.0    credit_card   \n",
       "2969    2970.0     42.0     607        704000       2000.0    credit_card   \n",
       "3332    3333.0     42.0     607        704000       2000.0    credit_card   \n",
       "4056    4057.0     42.0     607        704000       2000.0    credit_card   \n",
       "4646    4647.0     42.0     607        704000       2000.0    credit_card   \n",
       "4868    4869.0     42.0     607        704000       2000.0    credit_card   \n",
       "4882    4883.0     42.0     607        704000       2000.0    credit_card   \n",
       "\n",
       "              created_at  \n",
       "15   2017-03-07 04:00:00  \n",
       "60   2017-03-04 04:00:00  \n",
       "520  2017-03-02 04:00:00  \n",
       "1104 2017-03-24 04:00:00  \n",
       "1362 2017-03-15 04:00:00  \n",
       "1436 2017-03-11 04:00:00  \n",
       "1562 2017-03-19 04:00:00  \n",
       "1602 2017-03-17 04:00:00  \n",
       "2153 2017-03-12 04:00:00  \n",
       "2297 2017-03-07 04:00:00  \n",
       "2835 2017-03-28 04:00:00  \n",
       "2969 2017-03-28 04:00:00  \n",
       "3332 2017-03-24 04:00:00  \n",
       "4056 2017-03-28 04:00:00  \n",
       "4646 2017-03-02 04:00:00  \n",
       "4868 2017-03-22 04:00:00  \n",
       "4882 2017-03-25 04:00:00  "
      ]
     },
     "metadata": {},
     "execution_count": 105
    }
   ],
   "metadata": {}
  },
  {
   "cell_type": "markdown",
   "source": [
    "We see that all of the recorded transactions of size 2000 occurred from the same user_id (607) of the same shop_id (42), and that the order_amount is exactly the same in each case (704000). Moreover, we see that there are some days where there are multiple identical transactions, and all purchases are made at exactly 4 a.m., to the second. \n",
    "Either there was a mistake in the dataset with duplicate entries, or this customer is automating the process of buying shoes in bulk"
   ],
   "metadata": {}
  },
  {
   "cell_type": "code",
   "execution_count": 117,
   "source": [
    "data.groupby('total_items').size()"
   ],
   "outputs": [
    {
     "output_type": "execute_result",
     "data": {
      "text/plain": [
       "total_items\n",
       "1.0       1830\n",
       "2.0       1832\n",
       "3.0        941\n",
       "4.0        293\n",
       "5.0         77\n",
       "6.0          9\n",
       "8.0          1\n",
       "2000.0      17\n",
       "dtype: int64"
      ]
     },
     "metadata": {},
     "execution_count": 117
    }
   ],
   "metadata": {}
  },
  {
   "cell_type": "markdown",
   "source": [
    "All of the transaction sizes are 8 items or smaller, except for the 17 of size 2000. \n",
    "This can be the reason why our AOV is high."
   ],
   "metadata": {}
  },
  {
   "cell_type": "code",
   "execution_count": 126,
   "source": [
    "data.groupby('total_items')['order_amount'].mean()"
   ],
   "outputs": [
    {
     "output_type": "execute_result",
     "data": {
      "text/plain": [
       "total_items\n",
       "1.0          417.364481\n",
       "2.0          750.215066\n",
       "3.0         1191.076514\n",
       "4.0          947.686007\n",
       "5.0          759.350649\n",
       "6.0        17940.000000\n",
       "8.0         1064.000000\n",
       "2000.0    704000.000000\n",
       "Name: order_amount, dtype: float64"
      ]
     },
     "metadata": {},
     "execution_count": 126
    }
   ],
   "metadata": {}
  },
  {
   "cell_type": "code",
   "execution_count": 127,
   "source": [
    "data.groupby('total_items')['order_amount'].max()"
   ],
   "outputs": [
    {
     "output_type": "execute_result",
     "data": {
      "text/plain": [
       "total_items\n",
       "1.0        25725\n",
       "2.0        51450\n",
       "3.0        77175\n",
       "4.0       102900\n",
       "5.0         1760\n",
       "6.0       154350\n",
       "8.0         1064\n",
       "2000.0    704000\n",
       "Name: order_amount, dtype: int64"
      ]
     },
     "metadata": {},
     "execution_count": 127
    }
   ],
   "metadata": {}
  },
  {
   "cell_type": "code",
   "execution_count": null,
   "source": [],
   "outputs": [],
   "metadata": {}
  },
  {
   "cell_type": "code",
   "execution_count": null,
   "source": [],
   "outputs": [],
   "metadata": {}
  },
  {
   "cell_type": "code",
   "execution_count": 106,
   "source": [
    "data[['order_amount','total_items']].mean()"
   ],
   "outputs": [
    {
     "output_type": "execute_result",
     "data": {
      "text/plain": [
       "order_amount    6288.9982\n",
       "total_items        8.7872\n",
       "dtype: float64"
      ]
     },
     "metadata": {},
     "execution_count": 106
    }
   ],
   "metadata": {}
  },
  {
   "cell_type": "code",
   "execution_count": 128,
   "source": [
    "data[['order_amount','total_items']].median()"
   ],
   "outputs": [
    {
     "output_type": "execute_result",
     "data": {
      "text/plain": [
       "order_amount    284.0\n",
       "total_items       2.0\n",
       "dtype: float64"
      ]
     },
     "metadata": {},
     "execution_count": 128
    }
   ],
   "metadata": {}
  },
  {
   "cell_type": "code",
   "execution_count": 108,
   "source": [
    "data[['order_amount','total_items']].mode()"
   ],
   "outputs": [
    {
     "output_type": "execute_result",
     "data": {
      "text/html": [
       "<div>\n",
       "<style scoped>\n",
       "    .dataframe tbody tr th:only-of-type {\n",
       "        vertical-align: middle;\n",
       "    }\n",
       "\n",
       "    .dataframe tbody tr th {\n",
       "        vertical-align: top;\n",
       "    }\n",
       "\n",
       "    .dataframe thead th {\n",
       "        text-align: right;\n",
       "    }\n",
       "</style>\n",
       "<table border=\"1\" class=\"dataframe\">\n",
       "  <thead>\n",
       "    <tr style=\"text-align: right;\">\n",
       "      <th></th>\n",
       "      <th>order_amount</th>\n",
       "      <th>total_items</th>\n",
       "    </tr>\n",
       "  </thead>\n",
       "  <tbody>\n",
       "    <tr>\n",
       "      <th>0</th>\n",
       "      <td>153</td>\n",
       "      <td>2.0</td>\n",
       "    </tr>\n",
       "  </tbody>\n",
       "</table>\n",
       "</div>"
      ],
      "text/plain": [
       "   order_amount  total_items\n",
       "0           153          2.0"
      ]
     },
     "metadata": {},
     "execution_count": 108
    }
   ],
   "metadata": {}
  },
  {
   "cell_type": "code",
   "execution_count": 109,
   "source": [
    "data[['order_amount','total_items']].max()"
   ],
   "outputs": [
    {
     "output_type": "execute_result",
     "data": {
      "text/plain": [
       "order_amount    15725640.0\n",
       "total_items         2000.0\n",
       "dtype: float64"
      ]
     },
     "metadata": {},
     "execution_count": 109
    }
   ],
   "metadata": {}
  },
  {
   "cell_type": "code",
   "execution_count": 110,
   "source": [
    "data[['order_amount','total_items']].min()"
   ],
   "outputs": [
    {
     "output_type": "execute_result",
     "data": {
      "text/plain": [
       "order_amount    90.0\n",
       "total_items      1.0\n",
       "dtype: float64"
      ]
     },
     "metadata": {},
     "execution_count": 110
    }
   ],
   "metadata": {}
  },
  {
   "cell_type": "code",
   "execution_count": null,
   "source": [],
   "outputs": [],
   "metadata": {}
  },
  {
   "cell_type": "code",
   "execution_count": null,
   "source": [],
   "outputs": [],
   "metadata": {}
  },
  {
   "cell_type": "code",
   "execution_count": null,
   "source": [],
   "outputs": [],
   "metadata": {}
  }
 ],
 "metadata": {
  "orig_nbformat": 4,
  "language_info": {
   "name": "python",
   "version": "3.8.3",
   "mimetype": "text/x-python",
   "codemirror_mode": {
    "name": "ipython",
    "version": 3
   },
   "pygments_lexer": "ipython3",
   "nbconvert_exporter": "python",
   "file_extension": ".py"
  },
  "kernelspec": {
   "name": "python3",
   "display_name": "Python 3.8.3 64-bit ('base': conda)"
  },
  "interpreter": {
   "hash": "dca0ade3e726a953b501b15e8e990130d2b7799f14cfd9f4271676035ebe5511"
  }
 },
 "nbformat": 4,
 "nbformat_minor": 2
}